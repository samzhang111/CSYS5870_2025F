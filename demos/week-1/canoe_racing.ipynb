{
 "cells": [
  {
   "cell_type": "code",
   "execution_count": 2,
   "id": "9fc5b5dd-ed5b-4182-a041-051a8e7cf4cd",
   "metadata": {},
   "outputs": [
    {
     "data": {
      "text/plain": [
       "(17952, 16)"
      ]
     },
     "execution_count": 2,
     "metadata": {},
     "output_type": "execute_result"
    }
   ],
   "source": [
    "import pandas as pd\n",
    "df = pd.read_csv(\"./canoe_races.csv\")\n",
    "\n",
    "df.shape"
   ]
  },
  {
   "cell_type": "code",
   "execution_count": 3,
   "id": "9c183e2a-0b6c-493a-8e96-fc3ec0b5ecab",
   "metadata": {},
   "outputs": [
    {
     "data": {
      "text/html": [
       "<div>\n",
       "<style scoped>\n",
       "    .dataframe tbody tr th:only-of-type {\n",
       "        vertical-align: middle;\n",
       "    }\n",
       "\n",
       "    .dataframe tbody tr th {\n",
       "        vertical-align: top;\n",
       "    }\n",
       "\n",
       "    .dataframe thead th {\n",
       "        text-align: right;\n",
       "    }\n",
       "</style>\n",
       "<table border=\"1\" class=\"dataframe\">\n",
       "  <thead>\n",
       "    <tr style=\"text-align: right;\">\n",
       "      <th></th>\n",
       "      <th>date</th>\n",
       "      <th>race</th>\n",
       "      <th>region</th>\n",
       "      <th>category</th>\n",
       "      <th>result_id</th>\n",
       "      <th>position</th>\n",
       "      <th>name</th>\n",
       "      <th>name_first</th>\n",
       "      <th>name_last</th>\n",
       "      <th>club</th>\n",
       "      <th>club_full</th>\n",
       "      <th>class</th>\n",
       "      <th>class_full</th>\n",
       "      <th>division</th>\n",
       "      <th>time</th>\n",
       "      <th>points</th>\n",
       "    </tr>\n",
       "  </thead>\n",
       "  <tbody>\n",
       "    <tr>\n",
       "      <th>0</th>\n",
       "      <td>2025-01-12</td>\n",
       "      <td>Chelmsford Winter Series marathon</td>\n",
       "      <td>NaN</td>\n",
       "      <td>K2 16+ M</td>\n",
       "      <td>133111</td>\n",
       "      <td>1.0</td>\n",
       "      <td>Alessio Fiacco</td>\n",
       "      <td>Alessio</td>\n",
       "      <td>Fiacco</td>\n",
       "      <td>CAM</td>\n",
       "      <td>Cambridge CC</td>\n",
       "      <td>VMK</td>\n",
       "      <td>Veteran Male Kayak</td>\n",
       "      <td>4</td>\n",
       "      <td>1:04:58</td>\n",
       "      <td>NaN</td>\n",
       "    </tr>\n",
       "    <tr>\n",
       "      <th>1</th>\n",
       "      <td>2025-01-12</td>\n",
       "      <td>Chelmsford Winter Series marathon</td>\n",
       "      <td>NaN</td>\n",
       "      <td>K2 16+ M</td>\n",
       "      <td>133111</td>\n",
       "      <td>1.0</td>\n",
       "      <td>Simon Margot</td>\n",
       "      <td>Simon</td>\n",
       "      <td>Margot</td>\n",
       "      <td>CAM</td>\n",
       "      <td>Cambridge CC</td>\n",
       "      <td>VMK</td>\n",
       "      <td>Veteran Male Kayak</td>\n",
       "      <td>4</td>\n",
       "      <td>1:04:58</td>\n",
       "      <td>NaN</td>\n",
       "    </tr>\n",
       "    <tr>\n",
       "      <th>2</th>\n",
       "      <td>2025-01-12</td>\n",
       "      <td>Chelmsford Winter Series marathon</td>\n",
       "      <td>NaN</td>\n",
       "      <td>K2 16+ M</td>\n",
       "      <td>133112</td>\n",
       "      <td>2.0</td>\n",
       "      <td>Toby Flack</td>\n",
       "      <td>Toby</td>\n",
       "      <td>Flack</td>\n",
       "      <td>CAM</td>\n",
       "      <td>Cambridge CC</td>\n",
       "      <td>VMK</td>\n",
       "      <td>Veteran Male Kayak</td>\n",
       "      <td>5</td>\n",
       "      <td>1:05:07</td>\n",
       "      <td>NaN</td>\n",
       "    </tr>\n",
       "    <tr>\n",
       "      <th>3</th>\n",
       "      <td>2025-01-12</td>\n",
       "      <td>Chelmsford Winter Series marathon</td>\n",
       "      <td>NaN</td>\n",
       "      <td>K2 16+ M</td>\n",
       "      <td>133112</td>\n",
       "      <td>2.0</td>\n",
       "      <td>Andy Payne</td>\n",
       "      <td>Andy</td>\n",
       "      <td>Payne</td>\n",
       "      <td>CAM</td>\n",
       "      <td>Cambridge CC</td>\n",
       "      <td>VMK</td>\n",
       "      <td>Veteran Male Kayak</td>\n",
       "      <td>4</td>\n",
       "      <td>1:05:07</td>\n",
       "      <td>NaN</td>\n",
       "    </tr>\n",
       "    <tr>\n",
       "      <th>4</th>\n",
       "      <td>2025-01-12</td>\n",
       "      <td>Chelmsford Winter Series marathon</td>\n",
       "      <td>NaN</td>\n",
       "      <td>K2 16+ M</td>\n",
       "      <td>133113</td>\n",
       "      <td>3.0</td>\n",
       "      <td>Paul Cooper</td>\n",
       "      <td>Paul</td>\n",
       "      <td>Cooper</td>\n",
       "      <td>TON</td>\n",
       "      <td>Tonbridge CC</td>\n",
       "      <td>VMK</td>\n",
       "      <td>Veteran Male Kayak</td>\n",
       "      <td>6</td>\n",
       "      <td>1:07:29</td>\n",
       "      <td>NaN</td>\n",
       "    </tr>\n",
       "  </tbody>\n",
       "</table>\n",
       "</div>"
      ],
      "text/plain": [
       "         date                               race region  category  result_id  \\\n",
       "0  2025-01-12  Chelmsford Winter Series marathon    NaN  K2 16+ M     133111   \n",
       "1  2025-01-12  Chelmsford Winter Series marathon    NaN  K2 16+ M     133111   \n",
       "2  2025-01-12  Chelmsford Winter Series marathon    NaN  K2 16+ M     133112   \n",
       "3  2025-01-12  Chelmsford Winter Series marathon    NaN  K2 16+ M     133112   \n",
       "4  2025-01-12  Chelmsford Winter Series marathon    NaN  K2 16+ M     133113   \n",
       "\n",
       "   position            name name_first name_last club     club_full class  \\\n",
       "0       1.0  Alessio Fiacco    Alessio    Fiacco  CAM  Cambridge CC   VMK   \n",
       "1       1.0    Simon Margot      Simon    Margot  CAM  Cambridge CC   VMK   \n",
       "2       2.0      Toby Flack       Toby     Flack  CAM  Cambridge CC   VMK   \n",
       "3       2.0      Andy Payne       Andy     Payne  CAM  Cambridge CC   VMK   \n",
       "4       3.0     Paul Cooper       Paul    Cooper  TON  Tonbridge CC   VMK   \n",
       "\n",
       "           class_full division     time  points  \n",
       "0  Veteran Male Kayak        4  1:04:58     NaN  \n",
       "1  Veteran Male Kayak        4  1:04:58     NaN  \n",
       "2  Veteran Male Kayak        5  1:05:07     NaN  \n",
       "3  Veteran Male Kayak        4  1:05:07     NaN  \n",
       "4  Veteran Male Kayak        6  1:07:29     NaN  "
      ]
     },
     "execution_count": 3,
     "metadata": {},
     "output_type": "execute_result"
    }
   ],
   "source": [
    "df.head()"
   ]
  },
  {
   "cell_type": "code",
   "execution_count": 6,
   "id": "af971a32-a2cb-498c-b087-0f706996d2de",
   "metadata": {},
   "outputs": [
    {
     "data": {
      "text/plain": [
       "106"
      ]
     },
     "execution_count": 6,
     "metadata": {},
     "output_type": "execute_result"
    }
   ],
   "source": [
    "df[df.race == 'Chelmsford Winter Series marathon'].name.nunique()"
   ]
  },
  {
   "cell_type": "code",
   "execution_count": 7,
   "id": "a8c6444f-fd6c-4106-be5c-4ff18c6e5331",
   "metadata": {},
   "outputs": [
    {
     "data": {
      "text/plain": [
       "108"
      ]
     },
     "execution_count": 7,
     "metadata": {},
     "output_type": "execute_result"
    }
   ],
   "source": [
    "df.race.nunique()"
   ]
  }
 ],
 "metadata": {
  "kernelspec": {
   "display_name": "Python 3 (ipykernel)",
   "language": "python",
   "name": "python3"
  },
  "language_info": {
   "codemirror_mode": {
    "name": "ipython",
    "version": 3
   },
   "file_extension": ".py",
   "mimetype": "text/x-python",
   "name": "python",
   "nbconvert_exporter": "python",
   "pygments_lexer": "ipython3",
   "version": "3.13.0"
  }
 },
 "nbformat": 4,
 "nbformat_minor": 5
}
