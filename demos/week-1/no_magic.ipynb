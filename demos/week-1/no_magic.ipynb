{
 "cells": [
  {
   "cell_type": "code",
   "execution_count": 1,
   "id": "d9435f25-ded5-416b-be9a-02abc24eb707",
   "metadata": {},
   "outputs": [],
   "source": [
    "class SolitaryBug(object):\n",
    "    def __init__(self):\n",
    "        pass\n",
    "\n",
    "    def __add__(self, other):\n",
    "        print(f\"No!! Leave me alone {other}!\")"
   ]
  },
  {
   "cell_type": "code",
   "execution_count": 2,
   "id": "3b3978c7-6137-40e9-95db-039daff8f4e9",
   "metadata": {},
   "outputs": [
    {
     "name": "stdout",
     "output_type": "stream",
     "text": [
      "No!! Leave me alone 1!\n"
     ]
    }
   ],
   "source": [
    "bug = SolitaryBug()\n",
    "\n",
    "bug + 1"
   ]
  },
  {
   "cell_type": "code",
   "execution_count": 3,
   "id": "3869fec8-5a33-46ae-97b5-4ac2350b55f6",
   "metadata": {},
   "outputs": [
    {
     "name": "stdout",
     "output_type": "stream",
     "text": [
      "No!! Leave me alone [1, 2, 3]!\n"
     ]
    }
   ],
   "source": [
    "bug + [1, 2, 3]"
   ]
  }
 ],
 "metadata": {
  "kernelspec": {
   "display_name": "Python 3 (ipykernel)",
   "language": "python",
   "name": "python3"
  },
  "language_info": {
   "codemirror_mode": {
    "name": "ipython",
    "version": 3
   },
   "file_extension": ".py",
   "mimetype": "text/x-python",
   "name": "python",
   "nbconvert_exporter": "python",
   "pygments_lexer": "ipython3",
   "version": "3.13.0"
  }
 },
 "nbformat": 4,
 "nbformat_minor": 5
}
